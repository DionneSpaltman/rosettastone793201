{
  "nbformat": 4,
  "nbformat_minor": 0,
  "metadata": {
    "colab": {
      "provenance": []
    },
    "kernelspec": {
      "name": "python3",
      "display_name": "Python 3"
    },
    "language_info": {
      "name": "python"
    }
  },
  "cells": [
    {
      "cell_type": "code",
      "execution_count": 2,
      "metadata": {
        "colab": {
          "base_uri": "https://localhost:8080/"
        },
        "id": "qNXepkq9emDh",
        "outputId": "6d4962ed-c500-4c3c-82ee-ec9a47051684"
      },
      "outputs": [
        {
          "output_type": "stream",
          "name": "stdout",
          "text": [
            "Drive already mounted at /content/drive/; to attempt to forcibly remount, call drive.mount(\"/content/drive/\", force_remount=True).\n",
            "(473373, 9)\n",
            "(9467, 9)\n"
          ]
        }
      ],
      "source": [
        "import pandas as pd\n",
        "from google.colab import drive\n",
        "drive.mount('/content/drive/')\n",
        "# Load data\n",
        "df = pd.read_csv('drive/MyDrive/MACHINE PROJECT/rs2_backtranslated.csv')\n",
        "df_1 = df.copy()\n",
        "df_4 = df.copy()\n",
        "\n",
        "df_4[\"sentence1_clean\"] = df_4[\"sentence1_bt\"]\n",
        "df_4[\"sentence2_clean\"] = df_4[\"sentence2_bt\"]\n",
        "df_1 = df_1.drop(df_1.sample(frac=0.5, random_state=42).index).reset_index(drop=True)\n",
        "df_4 = df_4.drop(df_4.sample(frac=0.99, random_state=42).index).reset_index(drop=True)\n",
        "print(df_1.shape)\n",
        "print(df_4.shape)\n",
        "df_final=pd.concat([df_1, df_4], axis=0, ignore_index=True)\n",
        "\n",
        "df_final =df_final.drop(columns=[\"sentence1_bt\",\"sentence2_bt\"])\n",
        "df_final.to_csv(\"/content/drive/MyDrive/MACHINE PROJECT/rs2_augmented.csv\", index=False)\n"
      ]
    }
  ]
}