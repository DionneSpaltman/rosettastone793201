{
 "cells": [
  {
   "cell_type": "markdown",
   "metadata": {},
   "source": [
    "# Exploration of the data \n",
    "\n",
    "### Objective\n",
    "An alien civilization has discovered an ancient text file on the abandoned Earth, containing\n",
    "millions of sentence pairs. Their challenge is to decipher how closely related these sentence\n",
    "pairs are, effectively developing a semantic similarity detection model.\n",
    "\n",
    "### Dataset Features\n",
    "- Contains ~1 million lines with paired sentences.\n",
    "- Some sentence pairs share the same meaning, while others differ.\n",
    "- Requires feature engineering and text preprocessing.\n",
    "\n",
    "### How to Get the Dataset\n",
    "The dataset consists of textual sentence pairs, requiring preprocessing steps such as\n",
    "tokenization, stemming, and embedding techniques to facilitate model training. It is\n",
    "available for download on LUISS learn webpage.\n"
   ]
  }
 ],
 "metadata": {
  "language_info": {
   "name": "python"
  }
 },
 "nbformat": 4,
 "nbformat_minor": 2
}
