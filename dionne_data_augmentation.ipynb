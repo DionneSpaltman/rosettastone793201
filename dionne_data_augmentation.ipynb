{
 "cells": [
  {
   "cell_type": "markdown",
   "metadata": {},
   "source": [
    "# Data Augmentation\n",
    "\n",
    "Enhance the dataset using paraphrasing techniques to improve model robustness."
   ]
  },
  {
   "cell_type": "code",
   "execution_count": 1,
   "metadata": {},
   "outputs": [],
   "source": [
    "import pandas as pd "
   ]
  },
  {
   "cell_type": "code",
   "execution_count": 2,
   "metadata": {},
   "outputs": [
    {
     "data": {
      "text/html": [
       "<div>\n",
       "<style scoped>\n",
       "    .dataframe tbody tr th:only-of-type {\n",
       "        vertical-align: middle;\n",
       "    }\n",
       "\n",
       "    .dataframe tbody tr th {\n",
       "        vertical-align: top;\n",
       "    }\n",
       "\n",
       "    .dataframe thead th {\n",
       "        text-align: right;\n",
       "    }\n",
       "</style>\n",
       "<table border=\"1\" class=\"dataframe\">\n",
       "  <thead>\n",
       "    <tr style=\"text-align: right;\">\n",
       "      <th></th>\n",
       "      <th>sentence1</th>\n",
       "      <th>sentence2</th>\n",
       "      <th>score</th>\n",
       "      <th>lang1</th>\n",
       "      <th>lang2</th>\n",
       "      <th>processed_language1</th>\n",
       "      <th>processed_language2</th>\n",
       "    </tr>\n",
       "  </thead>\n",
       "  <tbody>\n",
       "    <tr>\n",
       "      <th>0</th>\n",
       "      <td>ein flugzeug hebt gerade ab</td>\n",
       "      <td>an air plane is taking off</td>\n",
       "      <td>5.0</td>\n",
       "      <td>de</td>\n",
       "      <td>en</td>\n",
       "      <td>Flugzeug heben</td>\n",
       "      <td>air plane</td>\n",
       "    </tr>\n",
       "    <tr>\n",
       "      <th>1</th>\n",
       "      <td>ein flugzeug hebt gerade ab</td>\n",
       "      <td>un avión está despegando</td>\n",
       "      <td>5.0</td>\n",
       "      <td>de</td>\n",
       "      <td>es</td>\n",
       "      <td>Flugzeug heben</td>\n",
       "      <td>avión despegar</td>\n",
       "    </tr>\n",
       "    <tr>\n",
       "      <th>2</th>\n",
       "      <td>ein flugzeug hebt gerade ab</td>\n",
       "      <td>un avion est en train de décoller</td>\n",
       "      <td>5.0</td>\n",
       "      <td>de</td>\n",
       "      <td>fr</td>\n",
       "      <td>Flugzeug heben</td>\n",
       "      <td>avion train décoller</td>\n",
       "    </tr>\n",
       "    <tr>\n",
       "      <th>3</th>\n",
       "      <td>ein flugzeug hebt gerade ab</td>\n",
       "      <td>un aereo sta decollando</td>\n",
       "      <td>5.0</td>\n",
       "      <td>de</td>\n",
       "      <td>it</td>\n",
       "      <td>Flugzeug heben</td>\n",
       "      <td>aereo stare decollare</td>\n",
       "    </tr>\n",
       "    <tr>\n",
       "      <th>4</th>\n",
       "      <td>ein flugzeug hebt gerade ab</td>\n",
       "      <td>飛行機が離陸します</td>\n",
       "      <td>5.0</td>\n",
       "      <td>de</td>\n",
       "      <td>ja</td>\n",
       "      <td>Flugzeug heben</td>\n",
       "      <td>飛行機 離陸</td>\n",
       "    </tr>\n",
       "  </tbody>\n",
       "</table>\n",
       "</div>"
      ],
      "text/plain": [
       "                     sentence1                          sentence2  score  \\\n",
       "0  ein flugzeug hebt gerade ab         an air plane is taking off    5.0   \n",
       "1  ein flugzeug hebt gerade ab           un avión está despegando    5.0   \n",
       "2  ein flugzeug hebt gerade ab  un avion est en train de décoller    5.0   \n",
       "3  ein flugzeug hebt gerade ab            un aereo sta decollando    5.0   \n",
       "4  ein flugzeug hebt gerade ab                          飛行機が離陸します    5.0   \n",
       "\n",
       "  lang1 lang2 processed_language1    processed_language2  \n",
       "0    de    en      Flugzeug heben              air plane  \n",
       "1    de    es      Flugzeug heben         avión despegar  \n",
       "2    de    fr      Flugzeug heben   avion train décoller  \n",
       "3    de    it      Flugzeug heben  aereo stare decollare  \n",
       "4    de    ja      Flugzeug heben                 飛行機 離陸  "
      ]
     },
     "metadata": {},
     "output_type": "display_data"
    }
   ],
   "source": [
    "df = pd.read_csv('/Users/dionnespaltman/Desktop/Luiss /Machine Learning/Project/stopword_removal_dataframe.csv')\n",
    "\n",
    "display(df.head())   "
   ]
  },
  {
   "cell_type": "code",
   "execution_count": 3,
   "metadata": {},
   "outputs": [],
   "source": [
    "# pip install tiktoken\n"
   ]
  },
  {
   "cell_type": "code",
   "execution_count": 4,
   "metadata": {},
   "outputs": [],
   "source": [
    "# pip install blobfile\n"
   ]
  }
 ],
 "metadata": {
  "kernelspec": {
   "display_name": "base",
   "language": "python",
   "name": "python3"
  },
  "language_info": {
   "codemirror_mode": {
    "name": "ipython",
    "version": 3
   },
   "file_extension": ".py",
   "mimetype": "text/x-python",
   "name": "python",
   "nbconvert_exporter": "python",
   "pygments_lexer": "ipython3",
   "version": "3.10.9"
  }
 },
 "nbformat": 4,
 "nbformat_minor": 2
}
