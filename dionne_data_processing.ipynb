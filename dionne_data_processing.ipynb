{
 "cells": [
  {
   "cell_type": "markdown",
   "metadata": {},
   "source": [
    "# Data Processing \n",
    "Apply NLP techniques such as word embeddings, stemming, lemmatization, and stop-word removal.\n",
    "\n",
    "### Objective\n",
    "An alien civilization has discovered an ancient text file on the abandoned Earth, containing\n",
    "millions of sentence pairs. Their challenge is to decipher how closely related these sentence\n",
    "pairs are, effectively developing a semantic similarity detection model.\n",
    "\n",
    "### Dataset Features\n",
    "- Contains ~1 million lines with paired sentences.\n",
    "- Some sentence pairs share the same meaning, while others differ.\n",
    "- Requires feature engineering and text preprocessing.\n"
   ]
  },
  {
   "cell_type": "code",
   "execution_count": 1,
   "metadata": {},
   "outputs": [],
   "source": [
    "# import libraries \n",
    "import pandas as pd \n",
    "import numpy as np"
   ]
  },
  {
   "cell_type": "code",
   "execution_count": 2,
   "metadata": {},
   "outputs": [],
   "source": [
    "# change this file path \n",
    "file_path = \"/Users/dionnespaltman/Desktop/Luiss /Machine Learning/Project/rs2.csv\"\n",
    "\n",
    "# load the csv as a pandas dataframe \n",
    "df = pd.read_csv(file_path)"
   ]
  },
  {
   "cell_type": "code",
   "execution_count": null,
   "metadata": {},
   "outputs": [
    {
     "name": "stdout",
     "output_type": "stream",
     "text": [
      "(949080, 5)\n"
     ]
    }
   ],
   "source": [
    "# print dimensions \n",
    "print(df.shape)"
   ]
  },
  {
   "cell_type": "code",
   "execution_count": null,
   "metadata": {},
   "outputs": [
    {
     "data": {
      "text/html": [
       "<div>\n",
       "<style scoped>\n",
       "    .dataframe tbody tr th:only-of-type {\n",
       "        vertical-align: middle;\n",
       "    }\n",
       "\n",
       "    .dataframe tbody tr th {\n",
       "        vertical-align: top;\n",
       "    }\n",
       "\n",
       "    .dataframe thead th {\n",
       "        text-align: right;\n",
       "    }\n",
       "</style>\n",
       "<table border=\"1\" class=\"dataframe\">\n",
       "  <thead>\n",
       "    <tr style=\"text-align: right;\">\n",
       "      <th></th>\n",
       "      <th>sentence1</th>\n",
       "      <th>sentence2</th>\n",
       "      <th>score</th>\n",
       "      <th>lang1</th>\n",
       "      <th>lang2</th>\n",
       "    </tr>\n",
       "  </thead>\n",
       "  <tbody>\n",
       "    <tr>\n",
       "      <th>0</th>\n",
       "      <td>Ein Flugzeug hebt gerade ab.</td>\n",
       "      <td>An air plane is taking off.</td>\n",
       "      <td>5.0</td>\n",
       "      <td>de</td>\n",
       "      <td>en</td>\n",
       "    </tr>\n",
       "    <tr>\n",
       "      <th>1</th>\n",
       "      <td>Ein Flugzeug hebt gerade ab.</td>\n",
       "      <td>Un avión está despegando.</td>\n",
       "      <td>5.0</td>\n",
       "      <td>de</td>\n",
       "      <td>es</td>\n",
       "    </tr>\n",
       "    <tr>\n",
       "      <th>2</th>\n",
       "      <td>Ein Flugzeug hebt gerade ab.</td>\n",
       "      <td>Un avion est en train de décoller.</td>\n",
       "      <td>5.0</td>\n",
       "      <td>de</td>\n",
       "      <td>fr</td>\n",
       "    </tr>\n",
       "    <tr>\n",
       "      <th>3</th>\n",
       "      <td>Ein Flugzeug hebt gerade ab.</td>\n",
       "      <td>Un aereo sta decollando.</td>\n",
       "      <td>5.0</td>\n",
       "      <td>de</td>\n",
       "      <td>it</td>\n",
       "    </tr>\n",
       "    <tr>\n",
       "      <th>4</th>\n",
       "      <td>Ein Flugzeug hebt gerade ab.</td>\n",
       "      <td>飛行機が離陸します。</td>\n",
       "      <td>5.0</td>\n",
       "      <td>de</td>\n",
       "      <td>ja</td>\n",
       "    </tr>\n",
       "  </tbody>\n",
       "</table>\n",
       "</div>"
      ],
      "text/plain": [
       "                      sentence1                           sentence2  score  \\\n",
       "0  Ein Flugzeug hebt gerade ab.         An air plane is taking off.    5.0   \n",
       "1  Ein Flugzeug hebt gerade ab.           Un avión está despegando.    5.0   \n",
       "2  Ein Flugzeug hebt gerade ab.  Un avion est en train de décoller.    5.0   \n",
       "3  Ein Flugzeug hebt gerade ab.            Un aereo sta decollando.    5.0   \n",
       "4  Ein Flugzeug hebt gerade ab.                          飛行機が離陸します。    5.0   \n",
       "\n",
       "  lang1 lang2  \n",
       "0    de    en  \n",
       "1    de    es  \n",
       "2    de    fr  \n",
       "3    de    it  \n",
       "4    de    ja  "
      ]
     },
     "metadata": {},
     "output_type": "display_data"
    }
   ],
   "source": [
    "# display the first 5 rows\n",
    "display(df.head())"
   ]
  },
  {
   "cell_type": "code",
   "execution_count": null,
   "metadata": {},
   "outputs": [],
   "source": []
  }
 ],
 "metadata": {
  "kernelspec": {
   "display_name": "base",
   "language": "python",
   "name": "python3"
  },
  "language_info": {
   "codemirror_mode": {
    "name": "ipython",
    "version": 3
   },
   "file_extension": ".py",
   "mimetype": "text/x-python",
   "name": "python",
   "nbconvert_exporter": "python",
   "pygments_lexer": "ipython3",
   "version": "3.10.9"
  }
 },
 "nbformat": 4,
 "nbformat_minor": 2
}
