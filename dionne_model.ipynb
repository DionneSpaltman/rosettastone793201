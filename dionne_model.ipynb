{
 "cells": [
  {
   "cell_type": "markdown",
   "metadata": {},
   "source": [
    "# Model Development\n",
    "- Design a Neural Network for sentence similarity measurement.\n",
    "- Experiment with different architectures (e.g., transformers, LSTMs)."
   ]
  },
  {
   "cell_type": "markdown",
   "metadata": {},
   "source": [
    "## Requirements "
   ]
  },
  {
   "cell_type": "code",
   "execution_count": null,
   "metadata": {},
   "outputs": [],
   "source": [
    "pip install tensorflow_text"
   ]
  },
  {
   "cell_type": "code",
   "execution_count": 1,
   "metadata": {},
   "outputs": [
    {
     "name": "stdout",
     "output_type": "stream",
     "text": [
      "Requirement already satisfied: numpy<2.0.0 in /Users/dionnespaltman/anaconda3/envs/rosettastone/lib/python3.10/site-packages (1.26.4)\n",
      "Note: you may need to restart the kernel to use updated packages.\n"
     ]
    }
   ],
   "source": [
    "pip install \"numpy<2.0.0\""
   ]
  },
  {
   "cell_type": "code",
   "execution_count": null,
   "metadata": {},
   "outputs": [],
   "source": [
    "pip install pandas"
   ]
  },
  {
   "cell_type": "code",
   "execution_count": 1,
   "metadata": {},
   "outputs": [
    {
     "name": "stderr",
     "output_type": "stream",
     "text": [
      "2025-05-04 13:32:01.284447: I tensorflow/core/platform/cpu_feature_guard.cc:210] This TensorFlow binary is optimized to use available CPU instructions in performance-critical operations.\n",
      "To enable the following instructions: AVX2 FMA, in other operations, rebuild TensorFlow with the appropriate compiler flags.\n"
     ]
    }
   ],
   "source": [
    "import logging\n",
    "import time\n",
    "import numpy as np\n",
    "import pandas as pd\n",
    "import tensorflow_text\n",
    "import tensorflow as tf\n",
    "logging.getLogger('tensorflow').setLevel(logging.ERROR) # suppress warnings"
   ]
  },
  {
   "cell_type": "markdown",
   "metadata": {},
   "source": [
    "## Loading the data"
   ]
  },
  {
   "cell_type": "code",
   "execution_count": 2,
   "metadata": {},
   "outputs": [],
   "source": [
    "df = pd.read_csv('/Users/dionnespaltman/Desktop/Luiss/Machine Learning/Project/stopword_removal_dataframe.csv')"
   ]
  },
  {
   "cell_type": "code",
   "execution_count": 3,
   "metadata": {},
   "outputs": [
    {
     "data": {
      "text/html": [
       "<div>\n",
       "<style scoped>\n",
       "    .dataframe tbody tr th:only-of-type {\n",
       "        vertical-align: middle;\n",
       "    }\n",
       "\n",
       "    .dataframe tbody tr th {\n",
       "        vertical-align: top;\n",
       "    }\n",
       "\n",
       "    .dataframe thead th {\n",
       "        text-align: right;\n",
       "    }\n",
       "</style>\n",
       "<table border=\"1\" class=\"dataframe\">\n",
       "  <thead>\n",
       "    <tr style=\"text-align: right;\">\n",
       "      <th></th>\n",
       "      <th>sentence1</th>\n",
       "      <th>sentence2</th>\n",
       "      <th>score</th>\n",
       "      <th>lang1</th>\n",
       "      <th>lang2</th>\n",
       "      <th>processed_language1</th>\n",
       "      <th>processed_language2</th>\n",
       "    </tr>\n",
       "  </thead>\n",
       "  <tbody>\n",
       "    <tr>\n",
       "      <th>0</th>\n",
       "      <td>ein flugzeug hebt gerade ab</td>\n",
       "      <td>an air plane is taking off</td>\n",
       "      <td>5.0</td>\n",
       "      <td>de</td>\n",
       "      <td>en</td>\n",
       "      <td>Flugzeug heben</td>\n",
       "      <td>air plane</td>\n",
       "    </tr>\n",
       "    <tr>\n",
       "      <th>1</th>\n",
       "      <td>ein flugzeug hebt gerade ab</td>\n",
       "      <td>un avión está despegando</td>\n",
       "      <td>5.0</td>\n",
       "      <td>de</td>\n",
       "      <td>es</td>\n",
       "      <td>Flugzeug heben</td>\n",
       "      <td>avión despegar</td>\n",
       "    </tr>\n",
       "    <tr>\n",
       "      <th>2</th>\n",
       "      <td>ein flugzeug hebt gerade ab</td>\n",
       "      <td>un avion est en train de décoller</td>\n",
       "      <td>5.0</td>\n",
       "      <td>de</td>\n",
       "      <td>fr</td>\n",
       "      <td>Flugzeug heben</td>\n",
       "      <td>avion train décoller</td>\n",
       "    </tr>\n",
       "    <tr>\n",
       "      <th>3</th>\n",
       "      <td>ein flugzeug hebt gerade ab</td>\n",
       "      <td>un aereo sta decollando</td>\n",
       "      <td>5.0</td>\n",
       "      <td>de</td>\n",
       "      <td>it</td>\n",
       "      <td>Flugzeug heben</td>\n",
       "      <td>aereo stare decollare</td>\n",
       "    </tr>\n",
       "    <tr>\n",
       "      <th>4</th>\n",
       "      <td>ein flugzeug hebt gerade ab</td>\n",
       "      <td>飛行機が離陸します</td>\n",
       "      <td>5.0</td>\n",
       "      <td>de</td>\n",
       "      <td>ja</td>\n",
       "      <td>Flugzeug heben</td>\n",
       "      <td>飛行機 離陸</td>\n",
       "    </tr>\n",
       "    <tr>\n",
       "      <th>...</th>\n",
       "      <td>...</td>\n",
       "      <td>...</td>\n",
       "      <td>...</td>\n",
       "      <td>...</td>\n",
       "      <td>...</td>\n",
       "      <td>...</td>\n",
       "      <td>...</td>\n",
       "    </tr>\n",
       "    <tr>\n",
       "      <th>949075</th>\n",
       "      <td>韩国宣布mers疫情结束</td>\n",
       "      <td>北朝鮮の代表団が韓国政府関係者と会談</td>\n",
       "      <td>0.0</td>\n",
       "      <td>zh</td>\n",
       "      <td>ja</td>\n",
       "      <td>韩国       宣布       mers       疫情       结束</td>\n",
       "      <td>北朝鮮 代表団 韓国 政府 関係者 会談</td>\n",
       "    </tr>\n",
       "    <tr>\n",
       "      <th>949076</th>\n",
       "      <td>韩国宣布mers疫情结束</td>\n",
       "      <td>delegatie noordkorea ontmoetingen met zuidkore...</td>\n",
       "      <td>0.0</td>\n",
       "      <td>zh</td>\n",
       "      <td>nl</td>\n",
       "      <td>韩国       宣布       mers       疫情       结束</td>\n",
       "      <td>delegatie noordkorea ontmoetingen zuidkoreaans...</td>\n",
       "    </tr>\n",
       "    <tr>\n",
       "      <th>949077</th>\n",
       "      <td>韩国宣布mers疫情结束</td>\n",
       "      <td>delegacja korei północnej spotyka się z urzędn...</td>\n",
       "      <td>0.0</td>\n",
       "      <td>zh</td>\n",
       "      <td>pl</td>\n",
       "      <td>韩国       宣布       mers       疫情       结束</td>\n",
       "      <td>delegacja korea północny spotykać urzędnik kor...</td>\n",
       "    </tr>\n",
       "    <tr>\n",
       "      <th>949078</th>\n",
       "      <td>韩国宣布mers疫情结束</td>\n",
       "      <td>delegação da coreia do norte reúnese com funci...</td>\n",
       "      <td>0.0</td>\n",
       "      <td>zh</td>\n",
       "      <td>pt</td>\n",
       "      <td>韩国       宣布       mers       疫情       结束</td>\n",
       "      <td>delegação coreia norte reúnese funcionário sul...</td>\n",
       "    </tr>\n",
       "    <tr>\n",
       "      <th>949079</th>\n",
       "      <td>韩国宣布mers疫情结束</td>\n",
       "      <td>делегация северной кореи встречается с южнокор...</td>\n",
       "      <td>0.0</td>\n",
       "      <td>zh</td>\n",
       "      <td>ru</td>\n",
       "      <td>韩国       宣布       mers       疫情       结束</td>\n",
       "      <td>делегация северный корея встречаться южнокорей...</td>\n",
       "    </tr>\n",
       "  </tbody>\n",
       "</table>\n",
       "<p>949080 rows × 7 columns</p>\n",
       "</div>"
      ],
      "text/plain": [
       "                          sentence1  \\\n",
       "0       ein flugzeug hebt gerade ab   \n",
       "1       ein flugzeug hebt gerade ab   \n",
       "2       ein flugzeug hebt gerade ab   \n",
       "3       ein flugzeug hebt gerade ab   \n",
       "4       ein flugzeug hebt gerade ab   \n",
       "...                             ...   \n",
       "949075                 韩国宣布mers疫情结束   \n",
       "949076                 韩国宣布mers疫情结束   \n",
       "949077                 韩国宣布mers疫情结束   \n",
       "949078                 韩国宣布mers疫情结束   \n",
       "949079                 韩国宣布mers疫情结束   \n",
       "\n",
       "                                                sentence2  score lang1 lang2  \\\n",
       "0                              an air plane is taking off    5.0    de    en   \n",
       "1                                un avión está despegando    5.0    de    es   \n",
       "2                       un avion est en train de décoller    5.0    de    fr   \n",
       "3                                 un aereo sta decollando    5.0    de    it   \n",
       "4                                               飛行機が離陸します    5.0    de    ja   \n",
       "...                                                   ...    ...   ...   ...   \n",
       "949075                                 北朝鮮の代表団が韓国政府関係者と会談    0.0    zh    ja   \n",
       "949076  delegatie noordkorea ontmoetingen met zuidkore...    0.0    zh    nl   \n",
       "949077  delegacja korei północnej spotyka się z urzędn...    0.0    zh    pl   \n",
       "949078  delegação da coreia do norte reúnese com funci...    0.0    zh    pt   \n",
       "949079  делегация северной кореи встречается с южнокор...    0.0    zh    ru   \n",
       "\n",
       "                             processed_language1  \\\n",
       "0                                 Flugzeug heben   \n",
       "1                                 Flugzeug heben   \n",
       "2                                 Flugzeug heben   \n",
       "3                                 Flugzeug heben   \n",
       "4                                 Flugzeug heben   \n",
       "...                                          ...   \n",
       "949075  韩国       宣布       mers       疫情       结束   \n",
       "949076  韩国       宣布       mers       疫情       结束   \n",
       "949077  韩国       宣布       mers       疫情       结束   \n",
       "949078  韩国       宣布       mers       疫情       结束   \n",
       "949079  韩国       宣布       mers       疫情       结束   \n",
       "\n",
       "                                      processed_language2  \n",
       "0                                               air plane  \n",
       "1                                          avión despegar  \n",
       "2                                    avion train décoller  \n",
       "3                                   aereo stare decollare  \n",
       "4                                                  飛行機 離陸  \n",
       "...                                                   ...  \n",
       "949075                               北朝鮮 代表団 韓国 政府 関係者 会談  \n",
       "949076  delegatie noordkorea ontmoetingen zuidkoreaans...  \n",
       "949077  delegacja korea północny spotykać urzędnik kor...  \n",
       "949078  delegação coreia norte reúnese funcionário sul...  \n",
       "949079  делегация северный корея встречаться южнокорей...  \n",
       "\n",
       "[949080 rows x 7 columns]"
      ]
     },
     "metadata": {},
     "output_type": "display_data"
    }
   ],
   "source": [
    "display(df)"
   ]
  },
  {
   "cell_type": "code",
   "execution_count": 5,
   "metadata": {},
   "outputs": [],
   "source": [
    "# Convert the filtered dataframe to two lists\n",
    "input_texts = df['processed_language1'].tolist()\n",
    "target_texts = df['processed_language2'].tolist()"
   ]
  },
  {
   "cell_type": "code",
   "execution_count": 6,
   "metadata": {},
   "outputs": [
    {
     "name": "stdout",
     "output_type": "stream",
     "text": [
      "<class 'list'> <class 'list'>\n",
      "<class 'str'> <class 'str'>\n"
     ]
    }
   ],
   "source": [
    "print(type(input_texts), type(target_texts))         # should both be <class 'list'>\n",
    "print(type(input_texts[0]), type(target_texts[0]))   # should both be <class 'str'>\n"
   ]
  },
  {
   "cell_type": "code",
   "execution_count": 12,
   "metadata": {},
   "outputs": [],
   "source": [
    "# Ensure all elements in input_texts and target_texts are strings\n",
    "input_texts = [str(text) for text in input_texts]\n",
    "target_texts = [str(text) for text in target_texts]\n",
    "\n",
    "# Create the TensorFlow dataset\n",
    "dataset = tf.data.Dataset.from_tensor_slices((input_texts, target_texts))\n"
   ]
  },
  {
   "cell_type": "code",
   "execution_count": 13,
   "metadata": {},
   "outputs": [],
   "source": [
    "# Define split ratio\n",
    "split_ratio = 0.8\n",
    "total_size = len(input_texts)\n",
    "train_size = int(total_size * split_ratio)\n",
    "\n",
    "# Create train and validation datasets\n",
    "train_examples = dataset.take(train_size)\n",
    "val_examples = dataset.skip(train_size)"
   ]
  },
  {
   "cell_type": "markdown",
   "metadata": {},
   "source": [
    "## Build and apply tokenizer"
   ]
  },
  {
   "cell_type": "code",
   "execution_count": 15,
   "metadata": {},
   "outputs": [
    {
     "ename": "ModuleNotFoundError",
     "evalue": "No module named 'tensorflow_datasets'",
     "output_type": "error",
     "traceback": [
      "\u001b[0;31m---------------------------------------------------------------------------\u001b[0m",
      "\u001b[0;31mModuleNotFoundError\u001b[0m                       Traceback (most recent call last)",
      "Cell \u001b[0;32mIn[15], line 1\u001b[0m\n\u001b[0;32m----> 1\u001b[0m \u001b[38;5;28;01mimport\u001b[39;00m\u001b[38;5;250m \u001b[39m\u001b[38;5;21;01mtensorflow_datasets\u001b[39;00m\u001b[38;5;250m \u001b[39m\u001b[38;5;28;01mas\u001b[39;00m\u001b[38;5;250m \u001b[39m\u001b[38;5;21;01mtfds\u001b[39;00m\n",
      "\u001b[0;31mModuleNotFoundError\u001b[0m: No module named 'tensorflow_datasets'"
     ]
    }
   ],
   "source": [
    "import tensorflow_datasets as tfds"
   ]
  }
 ],
 "metadata": {
  "kernelspec": {
   "display_name": "rosettastone",
   "language": "python",
   "name": "python3"
  },
  "language_info": {
   "codemirror_mode": {
    "name": "ipython",
    "version": 3
   },
   "file_extension": ".py",
   "mimetype": "text/x-python",
   "name": "python",
   "nbconvert_exporter": "python",
   "pygments_lexer": "ipython3",
   "version": "3.10.16"
  }
 },
 "nbformat": 4,
 "nbformat_minor": 2
}
